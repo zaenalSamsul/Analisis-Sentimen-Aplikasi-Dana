{
  "nbformat": 4,
  "nbformat_minor": 0,
  "metadata": {
    "colab": {
      "provenance": []
    },
    "kernelspec": {
      "name": "python3",
      "display_name": "Python 3"
    },
    "language_info": {
      "name": "python"
    }
  },
  "cells": [
    {
      "cell_type": "code",
      "execution_count": null,
      "metadata": {
        "colab": {
          "base_uri": "https://localhost:8080/"
        },
        "id": "pGFzMazlFcE6",
        "outputId": "a233a327-a0b8-45e8-881a-292dc936e0ec"
      },
      "outputs": [
        {
          "output_type": "stream",
          "name": "stdout",
          "text": [
            "Collecting google-play-scraper\n",
            "  Downloading google_play_scraper-1.2.7-py3-none-any.whl.metadata (50 kB)\n",
            "\u001b[?25l     \u001b[90m━━━━━━━━━━━━━━━━━━━━━━━━━━━━━━━━━━━━━━━━\u001b[0m \u001b[32m0.0/50.2 kB\u001b[0m \u001b[31m?\u001b[0m eta \u001b[36m-:--:--\u001b[0m\r\u001b[2K     \u001b[90m━━━━━━━━━━━━━━━━━━━━━━━━━━━━━━━━━━━━━━━━\u001b[0m \u001b[32m50.2/50.2 kB\u001b[0m \u001b[31m1.7 MB/s\u001b[0m eta \u001b[36m0:00:00\u001b[0m\n",
            "\u001b[?25hDownloading google_play_scraper-1.2.7-py3-none-any.whl (28 kB)\n",
            "Installing collected packages: google-play-scraper\n",
            "Successfully installed google-play-scraper-1.2.7\n"
          ]
        }
      ],
      "source": [
        "!pip install google-play-scraper"
      ]
    },
    {
      "cell_type": "code",
      "execution_count": null,
      "metadata": {
        "colab": {
          "base_uri": "https://localhost:8080/"
        },
        "id": "N-gVREDij2jV",
        "outputId": "2f22825d-722d-47c5-a41b-0480c66b1f14"
      },
      "outputs": [
        {
          "output_type": "stream",
          "name": "stderr",
          "text": [
            "[nltk_data] Downloading package punkt to /root/nltk_data...\n",
            "[nltk_data]   Unzipping tokenizers/punkt.zip.\n",
            "[nltk_data] Downloading package punkt_tab to /root/nltk_data...\n",
            "[nltk_data]   Unzipping tokenizers/punkt_tab.zip.\n"
          ]
        },
        {
          "output_type": "stream",
          "name": "stdout",
          "text": [
            "Collecting sastrawi\n",
            "  Downloading Sastrawi-1.0.1-py2.py3-none-any.whl.metadata (909 bytes)\n",
            "Downloading Sastrawi-1.0.1-py2.py3-none-any.whl (209 kB)\n",
            "\u001b[2K   \u001b[90m━━━━━━━━━━━━━━━━━━━━━━━━━━━━━━━━━━━━━━━━\u001b[0m \u001b[32m209.7/209.7 kB\u001b[0m \u001b[31m4.0 MB/s\u001b[0m eta \u001b[36m0:00:00\u001b[0m\n",
            "\u001b[?25hInstalling collected packages: sastrawi\n",
            "Successfully installed sastrawi-1.0.1\n"
          ]
        }
      ],
      "source": [
        "import pandas as pd  # Pandas untuk manipulasi dan analisis data\n",
        "pd.options.mode.chained_assignment = None  # Menonaktifkan peringatan chaining\n",
        "import numpy as np  # NumPy untuk komputasi numerik\n",
        "seed = 0\n",
        "np.random.seed(seed)  # Mengatur seed untuk reproduktibilitas\n",
        "import matplotlib.pyplot as plt  # Matplotlib untuk visualisasi data\n",
        "import seaborn as sns  # Seaborn untuk visualisasi data statistik, mengatur gaya visualisasi\n",
        "import time\n",
        "import datetime as dt  # Manipulasi data waktu dan tanggal\n",
        "import re  # Modul untuk bekerja dengan ekspresi reguler\n",
        "import string  # Berisi konstanta string, seperti tanda baca\n",
        "from nltk.tokenize import word_tokenize  # Tokenisasi teks\n",
        "from nltk.corpus import stopwords  # Daftar kata-kata berhenti dalam teks\n",
        "import nltk\n",
        "nltk.download('punkt')\n",
        "nltk.download('punkt_tab')\n",
        "\n",
        "!pip install sastrawi\n",
        "from Sastrawi.Stemmer.StemmerFactory import StemmerFactory  # Stemming (penghilangan imbuhan kata) dalam bahasa Indonesia\n",
        "from Sastrawi.StopWordRemover.StopWordRemoverFactory import StopWordRemoverFactory  # Menghapus kata-kata berhenti dalam bahasa Indonesia\n",
        "\n",
        "from wordcloud import WordCloud  # Membuat visualisasi berbentuk awan kata (word cloud) dari teks\n"
      ]
    },
    {
      "cell_type": "code",
      "execution_count": null,
      "metadata": {
        "colab": {
          "base_uri": "https://localhost:8080/"
        },
        "id": "Sjct6DIjkHhE",
        "outputId": "db00b156-f723-4cec-e094-debec2617e7a"
      },
      "outputs": [
        {
          "output_type": "stream",
          "name": "stderr",
          "text": [
            "[nltk_data] Downloading package punkt to /root/nltk_data...\n",
            "[nltk_data]   Package punkt is already up-to-date!\n",
            "[nltk_data] Downloading package stopwords to /root/nltk_data...\n",
            "[nltk_data]   Unzipping corpora/stopwords.zip.\n"
          ]
        },
        {
          "output_type": "execute_result",
          "data": {
            "text/plain": [
              "True"
            ]
          },
          "metadata": {},
          "execution_count": 3
        }
      ],
      "source": [
        "import nltk  # Import pustaka NLTK (Natural Language Toolkit).\n",
        "nltk.download('punkt')  # Mengunduh dataset yang diperlukan untuk tokenisasi teks.\n",
        "nltk.download('stopwords')  # Mengunduh dataset yang berisi daftar kata-kata berhenti (stop words) dalam berbagai bahasa."
      ]
    },
    {
      "cell_type": "code",
      "source": [
        "from google_play_scraper import reviews, Sort\n",
        "\n",
        "total_reviews = 12000  # Target jumlah ulasan\n",
        "batch_size = 200       # Jumlah ulasan per batch\n",
        "all_reviews = []\n",
        "next_token = None\n",
        "\n",
        "while len(all_reviews) < total_reviews:\n",
        "    # Ambil batch ulasan\n",
        "    review_batch, next_token = reviews(\n",
        "        'id.dana',\n",
        "        lang='id',\n",
        "        country='id',\n",
        "        sort=Sort.MOST_RELEVANT,\n",
        "        count=batch_size,\n",
        "        continuation_token=next_token  # Untuk melanjutkan dari batch sebelumnya\n",
        "    )\n",
        "\n",
        "    all_reviews.extend(review_batch)\n",
        "    print(f\"✅ Total ulasan yang berhasil diambil: {len(all_reviews)}\")\n",
        "\n",
        "    # Berhenti jika tidak ada lagi ulasan baru\n",
        "    if not next_token:\n",
        "        break\n",
        "\n",
        "    # Optional: delay agar tidak diblokir\n",
        "    time.sleep(1)\n",
        "\n",
        "# Konversi ke DataFrame\n",
        "df = pd.DataFrame(all_reviews)\n",
        "\n",
        "# Simpan ke CSV\n",
        "df.to_csv('ulasan_dana_12000.csv', index=False, encoding='utf-8')\n",
        "\n",
        "print(\"✅ Selesai! Data disimpan ke ulasan_dana_12000.csv\")\n"
      ],
      "metadata": {
        "colab": {
          "base_uri": "https://localhost:8080/"
        },
        "id": "0YOXj4yJdmrB",
        "outputId": "43648f4c-d785-44aa-a388-d2821aaf2438"
      },
      "execution_count": null,
      "outputs": [
        {
          "output_type": "stream",
          "name": "stdout",
          "text": [
            "✅ Total ulasan yang berhasil diambil: 200\n",
            "✅ Total ulasan yang berhasil diambil: 400\n",
            "✅ Total ulasan yang berhasil diambil: 600\n",
            "✅ Total ulasan yang berhasil diambil: 800\n",
            "✅ Total ulasan yang berhasil diambil: 1000\n",
            "✅ Total ulasan yang berhasil diambil: 1200\n",
            "✅ Total ulasan yang berhasil diambil: 1400\n",
            "✅ Total ulasan yang berhasil diambil: 1600\n",
            "✅ Total ulasan yang berhasil diambil: 1800\n",
            "✅ Total ulasan yang berhasil diambil: 2000\n",
            "✅ Total ulasan yang berhasil diambil: 2200\n",
            "✅ Total ulasan yang berhasil diambil: 2400\n",
            "✅ Total ulasan yang berhasil diambil: 2600\n",
            "✅ Total ulasan yang berhasil diambil: 2800\n",
            "✅ Total ulasan yang berhasil diambil: 3000\n",
            "✅ Total ulasan yang berhasil diambil: 3200\n",
            "✅ Total ulasan yang berhasil diambil: 3400\n",
            "✅ Total ulasan yang berhasil diambil: 3600\n",
            "✅ Total ulasan yang berhasil diambil: 3800\n",
            "✅ Total ulasan yang berhasil diambil: 4000\n",
            "✅ Total ulasan yang berhasil diambil: 4200\n",
            "✅ Total ulasan yang berhasil diambil: 4400\n",
            "✅ Total ulasan yang berhasil diambil: 4600\n",
            "✅ Total ulasan yang berhasil diambil: 4800\n",
            "✅ Total ulasan yang berhasil diambil: 5000\n",
            "✅ Total ulasan yang berhasil diambil: 5200\n",
            "✅ Total ulasan yang berhasil diambil: 5400\n",
            "✅ Total ulasan yang berhasil diambil: 5600\n",
            "✅ Total ulasan yang berhasil diambil: 5800\n",
            "✅ Total ulasan yang berhasil diambil: 6000\n",
            "✅ Total ulasan yang berhasil diambil: 6200\n",
            "✅ Total ulasan yang berhasil diambil: 6400\n",
            "✅ Total ulasan yang berhasil diambil: 6600\n",
            "✅ Total ulasan yang berhasil diambil: 6800\n",
            "✅ Total ulasan yang berhasil diambil: 7000\n",
            "✅ Total ulasan yang berhasil diambil: 7200\n",
            "✅ Total ulasan yang berhasil diambil: 7400\n",
            "✅ Total ulasan yang berhasil diambil: 7600\n",
            "✅ Total ulasan yang berhasil diambil: 7800\n",
            "✅ Total ulasan yang berhasil diambil: 8000\n",
            "✅ Total ulasan yang berhasil diambil: 8200\n",
            "✅ Total ulasan yang berhasil diambil: 8400\n",
            "✅ Total ulasan yang berhasil diambil: 8600\n",
            "✅ Total ulasan yang berhasil diambil: 8800\n",
            "✅ Total ulasan yang berhasil diambil: 9000\n",
            "✅ Total ulasan yang berhasil diambil: 9200\n",
            "✅ Total ulasan yang berhasil diambil: 9400\n",
            "✅ Total ulasan yang berhasil diambil: 9600\n",
            "✅ Total ulasan yang berhasil diambil: 9800\n",
            "✅ Total ulasan yang berhasil diambil: 10000\n",
            "✅ Total ulasan yang berhasil diambil: 10200\n",
            "✅ Total ulasan yang berhasil diambil: 10400\n",
            "✅ Total ulasan yang berhasil diambil: 10600\n",
            "✅ Total ulasan yang berhasil diambil: 10800\n",
            "✅ Total ulasan yang berhasil diambil: 11000\n",
            "✅ Total ulasan yang berhasil diambil: 11200\n",
            "✅ Total ulasan yang berhasil diambil: 11400\n",
            "✅ Total ulasan yang berhasil diambil: 11600\n",
            "✅ Total ulasan yang berhasil diambil: 11800\n",
            "✅ Total ulasan yang berhasil diambil: 12000\n",
            "✅ Selesai! Data disimpan ke ulasan_dana_12000.csv\n"
          ]
        }
      ]
    }
  ]
}