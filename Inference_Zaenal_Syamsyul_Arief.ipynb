{
  "nbformat": 4,
  "nbformat_minor": 0,
  "metadata": {
    "colab": {
      "provenance": []
    },
    "kernelspec": {
      "name": "python3",
      "display_name": "Python 3"
    },
    "language_info": {
      "name": "python"
    }
  },
  "cells": [
    {
      "cell_type": "markdown",
      "source": [
        "# **Inference**"
      ],
      "metadata": {
        "id": "qkkgtenkVdEO"
      }
    },
    {
      "cell_type": "code",
      "execution_count": 16,
      "metadata": {
        "colab": {
          "base_uri": "https://localhost:8080/"
        },
        "id": "jVQbUc-58N2f",
        "outputId": "406c983c-a776-49cd-a914-6f94f650e117"
      },
      "outputs": [
        {
          "output_type": "stream",
          "name": "stderr",
          "text": [
            "WARNING:absl:Compiled the loaded model, but the compiled metrics have yet to be built. `model.compile_metrics` will be empty until you train or evaluate the model.\n",
            "WARNING:absl:Compiled the loaded model, but the compiled metrics have yet to be built. `model.compile_metrics` will be empty until you train or evaluate the model.\n",
            "WARNING:absl:Compiled the loaded model, but the compiled metrics have yet to be built. `model.compile_metrics` will be empty until you train or evaluate the model.\n"
          ]
        }
      ],
      "source": [
        "import pickle\n",
        "from tensorflow.keras.models import load_model\n",
        "from tensorflow.keras.preprocessing.sequence import pad_sequences\n",
        "import numpy as np\n",
        "\n",
        "# Load tokenizer\n",
        "with open('tokenizer.pkl', 'rb') as handle:\n",
        "    tokenizer = pickle.load(handle)\n",
        "\n",
        "# Load models\n",
        "model_lstm = load_model(\"model_lstm.h5\")\n",
        "model_gru = load_model(\"model_gru.h5\")\n",
        "model_cnn = load_model(\"model_cnn.h5\")\n"
      ]
    },
    {
      "cell_type": "code",
      "source": [
        "# Label mapping (ubah sesuai hasil LabelEncoder jika berbeda)\n",
        "label_map = {\n",
        "    0: \"Negatif\",\n",
        "    1: \"Netral\",\n",
        "    2: \"Positif\"\n",
        "}\n",
        "\n",
        "# Tiga ulasan untuk prediksi\n",
        "ulasan = [\n",
        "    \"Aplikasi ini sangat membantu dan tampilannya menarik sekali!\",\n",
        "    \"Cukup baik, tapi ada kendala saat masuk aplikasi.\",\n",
        "    \"Saya kecewa, aplikasinya sering error dan lambat.\",\n",
        "    \"Aplikasinya bagus, nyaman dan juga, sangat mudah digunakan dan transfer cukup cepat\",\n",
        "    \"Keren , Saya sudah lama menggunakan aplikasi Dana, tidak ada kendala\"\n",
        "]\n"
      ],
      "metadata": {
        "id": "CpiWBD0R8U-3"
      },
      "execution_count": 17,
      "outputs": []
    },
    {
      "cell_type": "code",
      "source": [
        "# Ubah teks ke token dan lakukan padding\n",
        "sequences = tokenizer.texts_to_sequences(ulasan)\n",
        "padded = pad_sequences(sequences, maxlen=100, padding='post', truncating='post')\n"
      ],
      "metadata": {
        "id": "qz9-_lrU8U8d"
      },
      "execution_count": 18,
      "outputs": []
    },
    {
      "cell_type": "code",
      "source": [
        "# Fungsi untuk prediksi\n",
        "def prediksi_sentimen(model, data, model_name):\n",
        "    hasil = model.predict(data)\n",
        "    label_pred = np.argmax(hasil, axis=1)\n",
        "    print(f\"\\n=== Prediksi dengan {model_name} ===\")\n",
        "    for i, label in enumerate(label_pred):\n",
        "        print(f\"Ulasan: {ulasan[i]}\")\n",
        "        print(f\"Prediksi Sentimen: {label_map[label]}\")\n",
        "        print(f\"Probabilitas: {hasil[i]}\")\n",
        "        print(\"-\" * 50)\n"
      ],
      "metadata": {
        "id": "euMfVonr8U5W"
      },
      "execution_count": 19,
      "outputs": []
    },
    {
      "cell_type": "code",
      "source": [
        "# Prediksi dengan ketiga model\n",
        "prediksi_sentimen(model_lstm, padded, \"LSTM\")\n",
        "prediksi_sentimen(model_gru, padded, \"GRU\")\n",
        "prediksi_sentimen(model_cnn, padded, \"CNN\")"
      ],
      "metadata": {
        "colab": {
          "base_uri": "https://localhost:8080/"
        },
        "id": "1XJymhn28Uy3",
        "outputId": "6dd94e17-8b41-4ee2-94eb-4aa8566ad835"
      },
      "execution_count": 20,
      "outputs": [
        {
          "output_type": "stream",
          "name": "stdout",
          "text": [
            "\u001b[1m1/1\u001b[0m \u001b[32m━━━━━━━━━━━━━━━━━━━━\u001b[0m\u001b[37m\u001b[0m \u001b[1m1s\u001b[0m 568ms/step\n",
            "\n",
            "=== Prediksi dengan LSTM ===\n",
            "Ulasan: Aplikasi ini sangat membantu dan tampilannya menarik sekali!\n",
            "Prediksi Sentimen: Netral\n",
            "Probabilitas: [0.0163783  0.96309614 0.02052552]\n",
            "--------------------------------------------------\n",
            "Ulasan: Cukup baik, tapi ada kendala saat masuk aplikasi.\n",
            "Prediksi Sentimen: Netral\n",
            "Probabilitas: [0.08459176 0.77721953 0.13818873]\n",
            "--------------------------------------------------\n",
            "Ulasan: Saya kecewa, aplikasinya sering error dan lambat.\n",
            "Prediksi Sentimen: Negatif\n",
            "Probabilitas: [9.9914086e-01 2.6967116e-05 8.3220529e-04]\n",
            "--------------------------------------------------\n",
            "Ulasan: Aplikasinya bagus, nyaman dan juga, sangat mudah digunakan dan transfer cukup cepat\n",
            "Prediksi Sentimen: Positif\n",
            "Probabilitas: [3.851822e-02 6.940727e-04 9.607877e-01]\n",
            "--------------------------------------------------\n",
            "Ulasan: Keren , Saya sudah lama menggunakan aplikasi Dana, tidak ada kendala\n",
            "Prediksi Sentimen: Netral\n",
            "Probabilitas: [0.1950503  0.5217405  0.28320923]\n",
            "--------------------------------------------------\n",
            "\u001b[1m1/1\u001b[0m \u001b[32m━━━━━━━━━━━━━━━━━━━━\u001b[0m\u001b[37m\u001b[0m \u001b[1m2s\u001b[0m 2s/step\n",
            "\n",
            "=== Prediksi dengan GRU ===\n",
            "Ulasan: Aplikasi ini sangat membantu dan tampilannya menarik sekali!\n",
            "Prediksi Sentimen: Netral\n",
            "Probabilitas: [0.04894061 0.89699084 0.05406852]\n",
            "--------------------------------------------------\n",
            "Ulasan: Cukup baik, tapi ada kendala saat masuk aplikasi.\n",
            "Prediksi Sentimen: Netral\n",
            "Probabilitas: [0.02307148 0.79853135 0.17839715]\n",
            "--------------------------------------------------\n",
            "Ulasan: Saya kecewa, aplikasinya sering error dan lambat.\n",
            "Prediksi Sentimen: Negatif\n",
            "Probabilitas: [9.9995577e-01 4.3510201e-05 7.1402764e-07]\n",
            "--------------------------------------------------\n",
            "Ulasan: Aplikasinya bagus, nyaman dan juga, sangat mudah digunakan dan transfer cukup cepat\n",
            "Prediksi Sentimen: Positif\n",
            "Probabilitas: [2.3802985e-03 2.9751631e-05 9.9758995e-01]\n",
            "--------------------------------------------------\n",
            "Ulasan: Keren , Saya sudah lama menggunakan aplikasi Dana, tidak ada kendala\n",
            "Prediksi Sentimen: Positif\n",
            "Probabilitas: [0.21212728 0.35917792 0.42869478]\n",
            "--------------------------------------------------\n",
            "\u001b[1m1/1\u001b[0m \u001b[32m━━━━━━━━━━━━━━━━━━━━\u001b[0m\u001b[37m\u001b[0m \u001b[1m0s\u001b[0m 100ms/step\n",
            "\n",
            "=== Prediksi dengan CNN ===\n",
            "Ulasan: Aplikasi ini sangat membantu dan tampilannya menarik sekali!\n",
            "Prediksi Sentimen: Netral\n",
            "Probabilitas: [0.0151727  0.8799345  0.10489281]\n",
            "--------------------------------------------------\n",
            "Ulasan: Cukup baik, tapi ada kendala saat masuk aplikasi.\n",
            "Prediksi Sentimen: Netral\n",
            "Probabilitas: [0.01123495 0.94370204 0.04506298]\n",
            "--------------------------------------------------\n",
            "Ulasan: Saya kecewa, aplikasinya sering error dan lambat.\n",
            "Prediksi Sentimen: Negatif\n",
            "Probabilitas: [1.0000000e+00 5.9267487e-12 1.8493495e-11]\n",
            "--------------------------------------------------\n",
            "Ulasan: Aplikasinya bagus, nyaman dan juga, sangat mudah digunakan dan transfer cukup cepat\n",
            "Prediksi Sentimen: Positif\n",
            "Probabilitas: [7.8001861e-03 7.6034965e-05 9.9212378e-01]\n",
            "--------------------------------------------------\n",
            "Ulasan: Keren , Saya sudah lama menggunakan aplikasi Dana, tidak ada kendala\n",
            "Prediksi Sentimen: Netral\n",
            "Probabilitas: [0.03064433 0.6407474  0.3286082 ]\n",
            "--------------------------------------------------\n"
          ]
        }
      ]
    },
    {
      "cell_type": "markdown",
      "source": [
        "# 📊 Analisis Prediksi Sentimen Aplikasi DANA\n",
        "\n",
        "## ✅ Ringkasan Hasil Prediksi\n",
        "\n",
        "| No | Ulasan                                                                                   | Prediksi LSTM | Prediksi GRU | Prediksi CNN |\n",
        "|----|-------------------------------------------------------------------------------------------|---------------|---------------|---------------|\n",
        "| 1  | Aplikasi ini sangat membantu dan tampilannya menarik sekali!                             | Netral        | Netral        | Netral        |\n",
        "| 2  | Cukup baik, tapi ada kendala saat masuk aplikasi.                                        | Netral        | Netral        | Netral        |\n",
        "| 3  | Saya kecewa, aplikasinya sering error dan lambat.                                         | Negatif       | Negatif       | Negatif       |\n",
        "| 4  | Aplikasinya bagus, nyaman dan juga sangat mudah digunakan dan transfer cukup cepat       | Positif       | Positif       | Positif       |\n",
        "| 5  | Keren, saya sudah lama menggunakan aplikasi Dana, tidak ada kendala                      | Netral        | Positif       | Netral        |\n",
        "\n",
        "---\n",
        "\n",
        "## 📌 Penjelasan Per Ulasan\n",
        "\n",
        "### 🔹 1. **\"Aplikasi ini sangat membantu dan tampilannya menarik sekali!\"**\n",
        "- **Prediksi:**\n",
        "  - LSTM: `Netral` (Prob: `0.9630`)\n",
        "  - GRU: `Netral` (Prob: `0.8969`)\n",
        "  - CNN: `Netral` (Prob: `0.8799`)\n",
        "- **Catatan:** Meskipun bernada positif, tidak cukup kuat untuk digolongkan sebagai \"Positif\" oleh model.\n",
        "\n",
        "---\n",
        "\n",
        "### 🔹 2. **\"Cukup baik, tapi ada kendala saat masuk aplikasi.\"**\n",
        "- **Prediksi:**\n",
        "  - LSTM: `Netral` (Prob: `0.7772`)\n",
        "  - GRU: `Netral` (Prob: `0.7985`)\n",
        "  - CNN: `Netral` (Prob: `0.9437`)\n",
        "- **Catatan:** Kalimat campuran (positif dan negatif) membuat ketiga model sepakat memilih sentimen Netral.\n",
        "\n",
        "---\n",
        "\n",
        "### 🔹 3. **\"Saya kecewa, aplikasinya sering error dan lambat.\"**\n",
        "- **Prediksi:**\n",
        "  - LSTM: `Negatif` (Prob: `0.9991`)\n",
        "  - GRU: `Negatif` (Prob: `0.9999`)\n",
        "  - CNN: `Negatif` (Prob: `1.0000`)\n",
        "- **Catatan:** Semua model sangat yakin bahwa ini adalah sentimen Negatif karena ekspresi kekecewaan yang jelas.\n",
        "\n",
        "---\n",
        "\n",
        "### 🔹 4. **\"Aplikasinya bagus, nyaman dan juga sangat mudah digunakan dan transfer cukup cepat.\"**\n",
        "- **Prediksi:**\n",
        "  - LSTM: `Positif` (Prob: `0.9607`)\n",
        "  - GRU: `Positif` (Prob: `0.9975`)\n",
        "  - CNN: `Positif` (Prob: `0.9921`)\n",
        "- **Catatan:** Sentimen positif sangat kuat karena kata-kata pujian dan pengalaman baik.\n",
        "\n",
        "---\n",
        "\n",
        "### 🔹 5. **\"Keren, saya sudah lama menggunakan aplikasi Dana, tidak ada kendala.\"**\n",
        "- **Prediksi:**\n",
        "  - LSTM: `Netral` (Prob: `0.5217`)\n",
        "  - GRU: `Positif` (Prob: `0.4286`)\n",
        "  - CNN: `Netral` (Prob: `0.6407`)\n",
        "- **Catatan:** Kalimat positif ringan. GRU lebih responsif terhadap ekspresi positif ringan dibanding LSTM dan CNN.\n",
        "\n",
        "---\n",
        "\n",
        "## 🧠 Kesimpulan\n",
        "\n",
        "- **LSTM** dan **CNN** cenderung konservatif dan lebih memilih Netral untuk ulasan dengan nada ambigu.\n",
        "- **GRU** sedikit lebih sensitif terhadap ekspresi halus positif, bisa mengklasifikasikan Positif meskipun tanpa kata pujian eksplisit.\n",
        "- Semua model menunjukkan **konsistensi tinggi** terhadap ulasan yang jelas-jelas Positif atau Negatif.\n",
        "\n",
        "---\n",
        "\n"
      ],
      "metadata": {
        "id": "1Ln4sb84e0SZ"
      }
    }
  ]
}